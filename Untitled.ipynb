{
 "cells": [
  {
   "cell_type": "code",
   "execution_count": 1,
   "id": "42e7d7bb",
   "metadata": {},
   "outputs": [],
   "source": [
    "import requests\n",
    "from pyquery import PyQuery as pq"
   ]
  },
  {
   "cell_type": "code",
   "execution_count": 19,
   "id": "cebd49f5",
   "metadata": {},
   "outputs": [],
   "source": [
    "html = requests.get('https://dramasq.biz/jp220116b/')\n",
    "html.encoding = 'utf-8'\n",
    "doc = pq(html.text)"
   ]
  },
  {
   "cell_type": "code",
   "execution_count": 25,
   "id": "abc7e790",
   "metadata": {},
   "outputs": [],
   "source": [
    "dcu = []\n",
    "for item in doc('.items.sizing a').items():\n",
    "    dcu.append(item.text())"
   ]
  },
  {
   "cell_type": "code",
   "execution_count": 57,
   "id": "ef269a15",
   "metadata": {},
   "outputs": [],
   "source": [
    "import pickle\n",
    "with open(\"dcu\", \"wb\") as fp:\n",
    "    pickle.dump([], fp)"
   ]
  },
  {
   "cell_type": "code",
   "execution_count": 58,
   "id": "170a113a",
   "metadata": {},
   "outputs": [
    {
     "name": "stdout",
     "output_type": "stream",
     "text": [
      "[]\n"
     ]
    }
   ],
   "source": [
    "with open(\"dcu\", \"rb\") as fp:\n",
    "    b = pickle.load(fp)\n",
    "print(b)"
   ]
  },
  {
   "cell_type": "code",
   "execution_count": 29,
   "id": "7f6e0f2b",
   "metadata": {},
   "outputs": [],
   "source": [
    "a = [\n",
    " '水下罪案搜查班 第4集',\n",
    " '水下罪案搜查班 第3集',\n",
    " '水下罪案搜查班 第2集',\n",
    " '水下罪案搜查班 第1集',\n",
    " '每日資訊']"
   ]
  },
  {
   "cell_type": "code",
   "execution_count": 31,
   "id": "2021b639",
   "metadata": {},
   "outputs": [
    {
     "data": {
      "text/plain": [
       "['水下罪案搜查班 第5集']"
      ]
     },
     "execution_count": 31,
     "metadata": {},
     "output_type": "execute_result"
    }
   ],
   "source": [
    "list(set(b) - set(a))"
   ]
  },
  {
   "cell_type": "code",
   "execution_count": 41,
   "id": "43507018",
   "metadata": {},
   "outputs": [
    {
     "data": {
      "text/plain": [
       "[]"
      ]
     },
     "execution_count": 41,
     "metadata": {},
     "output_type": "execute_result"
    }
   ],
   "source": [
    "b"
   ]
  },
  {
   "cell_type": "code",
   "execution_count": 42,
   "id": "ac945ee9",
   "metadata": {},
   "outputs": [
    {
     "data": {
      "text/plain": [
       "False"
      ]
     },
     "execution_count": 42,
     "metadata": {},
     "output_type": "execute_result"
    }
   ],
   "source": [
    "import time\n",
    "time.time() % 2 > 1"
   ]
  },
  {
   "cell_type": "code",
   "execution_count": null,
   "id": "e4a06c72",
   "metadata": {},
   "outputs": [],
   "source": []
  }
 ],
 "metadata": {
  "kernelspec": {
   "display_name": "Python 3",
   "language": "python",
   "name": "python3"
  },
  "language_info": {
   "codemirror_mode": {
    "name": "ipython",
    "version": 3
   },
   "file_extension": ".py",
   "mimetype": "text/x-python",
   "name": "python",
   "nbconvert_exporter": "python",
   "pygments_lexer": "ipython3",
   "version": "3.8.8"
  }
 },
 "nbformat": 4,
 "nbformat_minor": 5
}
